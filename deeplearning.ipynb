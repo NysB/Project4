{
 "cells": [
  {
   "cell_type": "code",
   "execution_count": 2,
   "metadata": {},
   "outputs": [],
   "source": [
    "# Import dependencies\n",
    "import numpy as np\n",
    "import pandas as pd\n",
    "from sklearn.preprocessing import StandardScaler\n",
    "from sklearn.metrics import balanced_accuracy_score\n",
    "from sklearn.model_selection import train_test_split\n",
    "from sklearn.preprocessing import LabelEncoder\n",
    "import tensorflow as tf\n",
    "import pickle"
   ]
  },
  {
   "cell_type": "code",
   "execution_count": 3,
   "metadata": {},
   "outputs": [],
   "source": [
    "# Read data\n",
    "loan_train_df = pd.read_csv(r\"Dataset/loan_sanction_train.csv\")"
   ]
  },
  {
   "cell_type": "code",
   "execution_count": 4,
   "metadata": {},
   "outputs": [],
   "source": [
    "# Clean dataset and convert categorical to numeric\n",
    "loan_train_clean_df = loan_train_df.drop(columns=[\"Loan_ID\"])\n",
    "loan_train_clean_df = pd.get_dummies(loan_train_clean_df, columns=[\"Gender\",\n",
    "                                                                   \"Married\",\n",
    "                                                                   \"Dependents\",\n",
    "                                                                   \"Education\",\n",
    "                                                                   \"Self_Employed\",\n",
    "                                                                   \"Property_Area\"])\n",
    "loan_train_clean_df = loan_train_clean_df.dropna()\n"
   ]
  },
  {
   "cell_type": "code",
   "execution_count": 5,
   "metadata": {},
   "outputs": [],
   "source": [
    "# label data\n",
    "X = loan_train_clean_df.drop(columns=[\"Loan_Status\"]).values\n",
    "y = loan_train_clean_df[\"Loan_Status\"].values\n"
   ]
  },
  {
   "cell_type": "code",
   "execution_count": 6,
   "metadata": {},
   "outputs": [],
   "source": [
    "# Encode the target variable (Loan_Status) to numeric values\n",
    "label_encoder = LabelEncoder()\n",
    "y = label_encoder.fit_transform(y)"
   ]
  },
  {
   "cell_type": "code",
   "execution_count": 7,
   "metadata": {},
   "outputs": [],
   "source": [
    "# Split data\n",
    "X_train, X_test, y_train, y_test = train_test_split(X, y, random_state=1, stratify=y)\n",
    "\n",
    "X_scaler = StandardScaler()\n",
    "X_scaler.fit(X_train)\n",
    "\n",
    "X_train_scaled = X_scaler.transform(X_train)\n",
    "X_test_scaled = X_scaler.transform(X_test)"
   ]
  },
  {
   "cell_type": "code",
   "execution_count": 8,
   "metadata": {},
   "outputs": [
    {
     "name": "stdout",
     "output_type": "stream",
     "text": [
      "Model: \"sequential\"\n",
      "_________________________________________________________________\n",
      " Layer (type)                Output Shape              Param #   \n",
      "=================================================================\n",
      " dense (Dense)               (None, 64)                1344      \n",
      "                                                                 \n",
      " dense_1 (Dense)             (None, 32)                2080      \n",
      "                                                                 \n",
      " dense_2 (Dense)             (None, 1)                 33        \n",
      "                                                                 \n",
      "=================================================================\n",
      "Total params: 3457 (13.50 KB)\n",
      "Trainable params: 3457 (13.50 KB)\n",
      "Non-trainable params: 0 (0.00 Byte)\n",
      "_________________________________________________________________\n"
     ]
    }
   ],
   "source": [
    "# Create the deep learning model\n",
    "number_input_features = len(X_train_scaled[0])\n",
    "hidden_nodes_layer1 =  64\n",
    "hidden_nodes_layer2 = 32\n",
    "hidden_nodes_layer3 = 1\n",
    "\n",
    "\n",
    "nn = tf.keras.models.Sequential()\n",
    "\n",
    "# First hidden layer\n",
    "nn.add(tf.keras.layers.Dense(units=hidden_nodes_layer1, input_dim=number_input_features, activation=\"relu\"))\n",
    "\n",
    "# Second hidden layer\n",
    "nn.add(tf.keras.layers.Dense(units=hidden_nodes_layer2, activation=\"relu\"))\n",
    "\n",
    "# Output layer\n",
    "nn.add(tf.keras.layers.Dense(units=1, activation=\"sigmoid\"))\n",
    "\n",
    "# Check the structure of the model\n",
    "nn.summary()"
   ]
  },
  {
   "cell_type": "code",
   "execution_count": 9,
   "metadata": {},
   "outputs": [
    {
     "name": "stdout",
     "output_type": "stream",
     "text": [
      "Epoch 1/50\n",
      "11/11 [==============================] - 2s 57ms/step - loss: 0.8414 - accuracy: 0.3799 - val_loss: 0.7193 - val_accuracy: 0.4819\n",
      "Epoch 2/50\n",
      "11/11 [==============================] - 0s 10ms/step - loss: 0.6758 - accuracy: 0.5775 - val_loss: 0.6449 - val_accuracy: 0.6627\n",
      "Epoch 3/50\n",
      "11/11 [==============================] - 0s 10ms/step - loss: 0.6088 - accuracy: 0.7112 - val_loss: 0.6145 - val_accuracy: 0.6867\n",
      "Epoch 4/50\n",
      "11/11 [==============================] - 0s 17ms/step - loss: 0.5693 - accuracy: 0.7447 - val_loss: 0.5933 - val_accuracy: 0.7229\n",
      "Epoch 5/50\n",
      "11/11 [==============================] - 0s 11ms/step - loss: 0.5358 - accuracy: 0.7720 - val_loss: 0.5714 - val_accuracy: 0.7590\n",
      "Epoch 6/50\n",
      "11/11 [==============================] - 0s 10ms/step - loss: 0.5038 - accuracy: 0.7903 - val_loss: 0.5540 - val_accuracy: 0.7952\n",
      "Epoch 7/50\n",
      "11/11 [==============================] - 0s 10ms/step - loss: 0.4765 - accuracy: 0.8207 - val_loss: 0.5365 - val_accuracy: 0.7952\n",
      "Epoch 8/50\n",
      "11/11 [==============================] - 0s 13ms/step - loss: 0.4537 - accuracy: 0.8146 - val_loss: 0.5249 - val_accuracy: 0.8072\n",
      "Epoch 9/50\n",
      "11/11 [==============================] - 0s 14ms/step - loss: 0.4359 - accuracy: 0.8237 - val_loss: 0.5147 - val_accuracy: 0.8072\n",
      "Epoch 10/50\n",
      "11/11 [==============================] - 0s 12ms/step - loss: 0.4190 - accuracy: 0.8298 - val_loss: 0.5081 - val_accuracy: 0.8072\n",
      "Epoch 11/50\n",
      "11/11 [==============================] - 0s 31ms/step - loss: 0.4049 - accuracy: 0.8267 - val_loss: 0.5063 - val_accuracy: 0.8072\n",
      "Epoch 12/50\n",
      "11/11 [==============================] - 0s 25ms/step - loss: 0.3942 - accuracy: 0.8267 - val_loss: 0.5068 - val_accuracy: 0.7952\n",
      "Epoch 13/50\n",
      "11/11 [==============================] - 0s 21ms/step - loss: 0.3861 - accuracy: 0.8267 - val_loss: 0.5060 - val_accuracy: 0.8072\n",
      "Epoch 14/50\n",
      "11/11 [==============================] - 0s 13ms/step - loss: 0.3788 - accuracy: 0.8389 - val_loss: 0.5151 - val_accuracy: 0.7952\n",
      "Epoch 15/50\n",
      "11/11 [==============================] - 0s 11ms/step - loss: 0.3703 - accuracy: 0.8450 - val_loss: 0.5158 - val_accuracy: 0.7952\n",
      "Epoch 16/50\n",
      "11/11 [==============================] - 0s 28ms/step - loss: 0.3651 - accuracy: 0.8480 - val_loss: 0.5174 - val_accuracy: 0.8072\n",
      "Epoch 17/50\n",
      "11/11 [==============================] - 0s 25ms/step - loss: 0.3588 - accuracy: 0.8511 - val_loss: 0.5243 - val_accuracy: 0.8072\n",
      "Epoch 18/50\n",
      "11/11 [==============================] - 0s 10ms/step - loss: 0.3552 - accuracy: 0.8480 - val_loss: 0.5248 - val_accuracy: 0.8072\n",
      "Epoch 19/50\n",
      "11/11 [==============================] - 0s 9ms/step - loss: 0.3483 - accuracy: 0.8571 - val_loss: 0.5330 - val_accuracy: 0.7952\n",
      "Epoch 20/50\n",
      "11/11 [==============================] - 0s 9ms/step - loss: 0.3438 - accuracy: 0.8632 - val_loss: 0.5336 - val_accuracy: 0.7831\n",
      "Epoch 21/50\n",
      "11/11 [==============================] - 0s 9ms/step - loss: 0.3379 - accuracy: 0.8663 - val_loss: 0.5398 - val_accuracy: 0.7831\n",
      "Epoch 22/50\n",
      "11/11 [==============================] - 0s 9ms/step - loss: 0.3324 - accuracy: 0.8663 - val_loss: 0.5422 - val_accuracy: 0.7952\n",
      "Epoch 23/50\n",
      "11/11 [==============================] - 0s 8ms/step - loss: 0.3295 - accuracy: 0.8693 - val_loss: 0.5450 - val_accuracy: 0.7952\n",
      "Epoch 24/50\n",
      "11/11 [==============================] - 0s 8ms/step - loss: 0.3243 - accuracy: 0.8693 - val_loss: 0.5520 - val_accuracy: 0.7831\n",
      "Epoch 25/50\n",
      "11/11 [==============================] - 0s 8ms/step - loss: 0.3225 - accuracy: 0.8754 - val_loss: 0.5578 - val_accuracy: 0.7590\n",
      "Epoch 26/50\n",
      "11/11 [==============================] - 0s 9ms/step - loss: 0.3185 - accuracy: 0.8693 - val_loss: 0.5676 - val_accuracy: 0.7831\n",
      "Epoch 27/50\n",
      "11/11 [==============================] - 0s 10ms/step - loss: 0.3132 - accuracy: 0.8784 - val_loss: 0.5651 - val_accuracy: 0.7711\n",
      "Epoch 28/50\n",
      "11/11 [==============================] - 0s 11ms/step - loss: 0.3082 - accuracy: 0.8815 - val_loss: 0.5616 - val_accuracy: 0.7831\n",
      "Epoch 29/50\n",
      "11/11 [==============================] - 0s 10ms/step - loss: 0.3042 - accuracy: 0.8784 - val_loss: 0.5719 - val_accuracy: 0.7590\n",
      "Epoch 30/50\n",
      "11/11 [==============================] - 0s 11ms/step - loss: 0.3011 - accuracy: 0.8784 - val_loss: 0.5812 - val_accuracy: 0.7590\n",
      "Epoch 31/50\n",
      "11/11 [==============================] - 0s 9ms/step - loss: 0.2965 - accuracy: 0.8815 - val_loss: 0.5814 - val_accuracy: 0.7470\n",
      "Epoch 32/50\n",
      "11/11 [==============================] - 0s 10ms/step - loss: 0.2946 - accuracy: 0.8815 - val_loss: 0.5875 - val_accuracy: 0.7470\n",
      "Epoch 33/50\n",
      "11/11 [==============================] - 0s 10ms/step - loss: 0.2907 - accuracy: 0.8845 - val_loss: 0.5876 - val_accuracy: 0.7470\n",
      "Epoch 34/50\n",
      "11/11 [==============================] - 0s 9ms/step - loss: 0.2875 - accuracy: 0.8845 - val_loss: 0.5947 - val_accuracy: 0.7590\n",
      "Epoch 35/50\n",
      "11/11 [==============================] - 0s 9ms/step - loss: 0.2848 - accuracy: 0.8845 - val_loss: 0.5915 - val_accuracy: 0.7711\n",
      "Epoch 36/50\n",
      "11/11 [==============================] - 0s 12ms/step - loss: 0.2807 - accuracy: 0.8875 - val_loss: 0.5944 - val_accuracy: 0.7590\n",
      "Epoch 37/50\n",
      "11/11 [==============================] - 0s 10ms/step - loss: 0.2761 - accuracy: 0.8875 - val_loss: 0.5977 - val_accuracy: 0.7470\n",
      "Epoch 38/50\n",
      "11/11 [==============================] - 0s 9ms/step - loss: 0.2730 - accuracy: 0.8906 - val_loss: 0.6061 - val_accuracy: 0.7349\n",
      "Epoch 39/50\n",
      "11/11 [==============================] - 0s 12ms/step - loss: 0.2707 - accuracy: 0.8936 - val_loss: 0.6113 - val_accuracy: 0.7590\n",
      "Epoch 40/50\n",
      "11/11 [==============================] - 0s 11ms/step - loss: 0.2681 - accuracy: 0.8936 - val_loss: 0.6229 - val_accuracy: 0.7711\n",
      "Epoch 41/50\n",
      "11/11 [==============================] - 0s 9ms/step - loss: 0.2647 - accuracy: 0.8967 - val_loss: 0.6212 - val_accuracy: 0.7470\n",
      "Epoch 42/50\n",
      "11/11 [==============================] - 0s 9ms/step - loss: 0.2610 - accuracy: 0.8967 - val_loss: 0.6300 - val_accuracy: 0.7470\n",
      "Epoch 43/50\n",
      "11/11 [==============================] - 0s 9ms/step - loss: 0.2597 - accuracy: 0.8967 - val_loss: 0.6286 - val_accuracy: 0.7470\n",
      "Epoch 44/50\n",
      "11/11 [==============================] - 0s 12ms/step - loss: 0.2571 - accuracy: 0.8967 - val_loss: 0.6381 - val_accuracy: 0.7590\n",
      "Epoch 45/50\n",
      "11/11 [==============================] - 0s 10ms/step - loss: 0.2540 - accuracy: 0.8967 - val_loss: 0.6376 - val_accuracy: 0.7470\n",
      "Epoch 46/50\n",
      "11/11 [==============================] - 0s 9ms/step - loss: 0.2522 - accuracy: 0.9058 - val_loss: 0.6429 - val_accuracy: 0.7590\n",
      "Epoch 47/50\n",
      "11/11 [==============================] - 0s 9ms/step - loss: 0.2460 - accuracy: 0.8967 - val_loss: 0.6455 - val_accuracy: 0.7470\n",
      "Epoch 48/50\n",
      "11/11 [==============================] - 0s 10ms/step - loss: 0.2458 - accuracy: 0.8967 - val_loss: 0.6478 - val_accuracy: 0.7470\n",
      "Epoch 49/50\n",
      "11/11 [==============================] - 0s 10ms/step - loss: 0.2413 - accuracy: 0.9027 - val_loss: 0.6644 - val_accuracy: 0.7590\n",
      "Epoch 50/50\n",
      "11/11 [==============================] - 0s 11ms/step - loss: 0.2381 - accuracy: 0.9058 - val_loss: 0.6596 - val_accuracy: 0.7590\n"
     ]
    },
    {
     "data": {
      "text/plain": [
       "<keras.src.callbacks.History at 0x25145e2ad90>"
      ]
     },
     "execution_count": 9,
     "metadata": {},
     "output_type": "execute_result"
    }
   ],
   "source": [
    "# Compile the model\n",
    "nn.compile(optimizer='adam', loss='binary_crossentropy', metrics=['accuracy'])\n",
    "\n",
    "# Train the model\n",
    "nn.fit(X_train_scaled, y_train, epochs=50, batch_size=32, validation_split=0.2)\n"
   ]
  },
  {
   "cell_type": "code",
   "execution_count": 10,
   "metadata": {},
   "outputs": [
    {
     "name": "stdout",
     "output_type": "stream",
     "text": [
      "5/5 - 0s - loss: 0.6813 - accuracy: 0.7536 - 50ms/epoch - 10ms/step\n",
      "Loss: 0.68131023645401, Accuracy: 0.7536231875419617\n"
     ]
    }
   ],
   "source": [
    "# Evaluate the model on test data\n",
    "loss, accuracy = nn.evaluate(X_test_scaled, y_test, verbose=2)\n",
    "print(f\"Loss: {loss}, Accuracy: {accuracy}\")"
   ]
  },
  {
   "cell_type": "code",
   "execution_count": 11,
   "metadata": {},
   "outputs": [
    {
     "name": "stderr",
     "output_type": "stream",
     "text": [
      "c:\\Users\\Brecht Nys\\AppData\\Local\\Programs\\Python\\Python311\\Lib\\site-packages\\keras\\src\\engine\\training.py:3000: UserWarning: You are saving your model as an HDF5 file via `model.save()`. This file format is considered legacy. We recommend using instead the native Keras format, e.g. `model.save('my_model.keras')`.\n",
      "  saving_api.save_model(\n"
     ]
    },
    {
     "name": "stdout",
     "output_type": "stream",
     "text": [
      "5/5 [==============================] - 0s 3ms/step - loss: 0.6813 - accuracy: 0.7536\n",
      "Loaded Model Test Accuracy: 0.7536231875419617\n"
     ]
    }
   ],
   "source": [
    "# Save the model to a file\n",
    "filename = 'deep_learning_model.h5'\n",
    "nn.save(filename)\n",
    "\n",
    "# Load the model from the file and check its accuracy\n",
    "loaded_model = tf.keras.models.load_model(filename)\n",
    "loss, accuracy = loaded_model.evaluate(X_test_scaled, y_test)\n",
    "print(\"Loaded Model Test Accuracy:\", accuracy)"
   ]
  },
  {
   "cell_type": "code",
   "execution_count": null,
   "metadata": {},
   "outputs": [],
   "source": []
  }
 ],
 "metadata": {
  "kernelspec": {
   "display_name": "base",
   "language": "python",
   "name": "python3"
  },
  "language_info": {
   "codemirror_mode": {
    "name": "ipython",
    "version": 3
   },
   "file_extension": ".py",
   "mimetype": "text/x-python",
   "name": "python",
   "nbconvert_exporter": "python",
   "pygments_lexer": "ipython3",
   "version": "3.11.4"
  },
  "orig_nbformat": 4
 },
 "nbformat": 4,
 "nbformat_minor": 2
}
