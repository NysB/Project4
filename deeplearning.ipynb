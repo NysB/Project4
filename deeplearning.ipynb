{
 "cells": [
  {
   "cell_type": "code",
   "execution_count": 1,
   "metadata": {},
   "outputs": [],
   "source": [
    "# Import dependencies\n",
    "import numpy as np\n",
    "import pandas as pd\n",
    "from sklearn.preprocessing import StandardScaler\n",
    "from sklearn.metrics import balanced_accuracy_score\n",
    "from sklearn.model_selection import train_test_split\n",
    "from sklearn.preprocessing import LabelEncoder\n",
    "import tensorflow as tf\n",
    "import pickle"
   ]
  },
  {
   "cell_type": "code",
   "execution_count": 2,
   "metadata": {},
   "outputs": [],
   "source": [
    "# Read data\n",
    "loan_train_df = pd.read_csv(r\"Dataset/loan_sanction_train.csv\")"
   ]
  },
  {
   "cell_type": "code",
   "execution_count": 3,
   "metadata": {},
   "outputs": [],
   "source": [
    "# Clean dataset and convert categorical to numeric\n",
    "loan_train_clean_df = loan_train_df.drop(columns=[\"Loan_ID\"])\n",
    "loan_train_clean_df = pd.get_dummies(loan_train_clean_df, columns=[\"Gender\",\n",
    "                                                                   \"Married\",\n",
    "                                                                   \"Dependents\",\n",
    "                                                                   \"Education\",\n",
    "                                                                   \"Self_Employed\",\n",
    "                                                                   \"Property_Area\"])\n",
    "loan_train_clean_df = loan_train_clean_df.dropna()\n"
   ]
  },
  {
   "cell_type": "code",
   "execution_count": 4,
   "metadata": {},
   "outputs": [],
   "source": [
    "# label data\n",
    "X = loan_train_clean_df.drop(columns=[\"Loan_Status\"]).values\n",
    "y = loan_train_clean_df[\"Loan_Status\"].values\n"
   ]
  },
  {
   "cell_type": "code",
   "execution_count": 5,
   "metadata": {},
   "outputs": [],
   "source": [
    "# Encode the target variable (Loan_Status) to numeric values\n",
    "label_encoder = LabelEncoder()\n",
    "y = label_encoder.fit_transform(y)"
   ]
  },
  {
   "cell_type": "code",
   "execution_count": 6,
   "metadata": {},
   "outputs": [],
   "source": [
    "# Split data\n",
    "X_train, X_test, y_train, y_test = train_test_split(X, y, random_state=1, stratify=y)\n",
    "\n",
    "X_scaler = StandardScaler()\n",
    "X_scaler.fit(X_train)\n",
    "\n",
    "X_train_scaled = X_scaler.transform(X_train)\n",
    "X_test_scaled = X_scaler.transform(X_test)"
   ]
  },
  {
   "cell_type": "code",
   "execution_count": 7,
   "metadata": {},
   "outputs": [
    {
     "name": "stdout",
     "output_type": "stream",
     "text": [
      "Model: \"sequential\"\n",
      "_________________________________________________________________\n",
      " Layer (type)                Output Shape              Param #   \n",
      "=================================================================\n",
      " dense (Dense)               (None, 64)                1344      \n",
      "                                                                 \n",
      " dense_1 (Dense)             (None, 32)                2080      \n",
      "                                                                 \n",
      " dense_2 (Dense)             (None, 1)                 33        \n",
      "                                                                 \n",
      "=================================================================\n",
      "Total params: 3457 (13.50 KB)\n",
      "Trainable params: 3457 (13.50 KB)\n",
      "Non-trainable params: 0 (0.00 Byte)\n",
      "_________________________________________________________________\n"
     ]
    }
   ],
   "source": [
    "# Create the deep learning model\n",
    "number_input_features = len(X_train_scaled[0])\n",
    "hidden_nodes_layer1 =  64\n",
    "hidden_nodes_layer2 = 32\n",
    "hidden_nodes_layer3 = 1\n",
    "\n",
    "\n",
    "nn = tf.keras.models.Sequential()\n",
    "\n",
    "# First hidden layer\n",
    "nn.add(tf.keras.layers.Dense(units=hidden_nodes_layer1, input_dim=number_input_features, activation=\"relu\"))\n",
    "\n",
    "# Second hidden layer\n",
    "nn.add(tf.keras.layers.Dense(units=hidden_nodes_layer2, activation=\"relu\"))\n",
    "\n",
    "# Output layer\n",
    "nn.add(tf.keras.layers.Dense(units=1, activation=\"sigmoid\"))\n",
    "\n",
    "# Check the structure of the model\n",
    "nn.summary()"
   ]
  },
  {
   "cell_type": "code",
   "execution_count": 9,
   "metadata": {},
   "outputs": [
    {
     "name": "stdout",
     "output_type": "stream",
     "text": [
      "Epoch 1/50\n",
      "10/10 [==============================] - 0s 9ms/step - loss: 0.6679 - accuracy: 0.5918 - val_loss: 0.6466 - val_accuracy: 0.6875\n",
      "Epoch 2/50\n",
      "10/10 [==============================] - 0s 2ms/step - loss: 0.5938 - accuracy: 0.7278 - val_loss: 0.6276 - val_accuracy: 0.6750\n",
      "Epoch 3/50\n",
      "10/10 [==============================] - 0s 2ms/step - loss: 0.5496 - accuracy: 0.7500 - val_loss: 0.5968 - val_accuracy: 0.6875\n",
      "Epoch 4/50\n",
      "10/10 [==============================] - 0s 2ms/step - loss: 0.5155 - accuracy: 0.7848 - val_loss: 0.5770 - val_accuracy: 0.7375\n",
      "Epoch 5/50\n",
      "10/10 [==============================] - 0s 2ms/step - loss: 0.4886 - accuracy: 0.7816 - val_loss: 0.5578 - val_accuracy: 0.7500\n",
      "Epoch 6/50\n",
      "10/10 [==============================] - 0s 2ms/step - loss: 0.4665 - accuracy: 0.8133 - val_loss: 0.5456 - val_accuracy: 0.7750\n",
      "Epoch 7/50\n",
      "10/10 [==============================] - 0s 2ms/step - loss: 0.4484 - accuracy: 0.8165 - val_loss: 0.5322 - val_accuracy: 0.7750\n",
      "Epoch 8/50\n",
      "10/10 [==============================] - 0s 2ms/step - loss: 0.4330 - accuracy: 0.8133 - val_loss: 0.5260 - val_accuracy: 0.7750\n",
      "Epoch 9/50\n",
      "10/10 [==============================] - 0s 2ms/step - loss: 0.4181 - accuracy: 0.8291 - val_loss: 0.5207 - val_accuracy: 0.7625\n",
      "Epoch 10/50\n",
      "10/10 [==============================] - 0s 2ms/step - loss: 0.4079 - accuracy: 0.8291 - val_loss: 0.5228 - val_accuracy: 0.7750\n",
      "Epoch 11/50\n",
      "10/10 [==============================] - 0s 2ms/step - loss: 0.3977 - accuracy: 0.8386 - val_loss: 0.5202 - val_accuracy: 0.7625\n",
      "Epoch 12/50\n",
      "10/10 [==============================] - 0s 2ms/step - loss: 0.3885 - accuracy: 0.8418 - val_loss: 0.5151 - val_accuracy: 0.7625\n",
      "Epoch 13/50\n",
      "10/10 [==============================] - 0s 2ms/step - loss: 0.3823 - accuracy: 0.8418 - val_loss: 0.5278 - val_accuracy: 0.7750\n",
      "Epoch 14/50\n",
      "10/10 [==============================] - 0s 2ms/step - loss: 0.3720 - accuracy: 0.8449 - val_loss: 0.5196 - val_accuracy: 0.7625\n",
      "Epoch 15/50\n",
      "10/10 [==============================] - 0s 2ms/step - loss: 0.3664 - accuracy: 0.8513 - val_loss: 0.5203 - val_accuracy: 0.7625\n",
      "Epoch 16/50\n",
      "10/10 [==============================] - 0s 2ms/step - loss: 0.3604 - accuracy: 0.8481 - val_loss: 0.5299 - val_accuracy: 0.7750\n",
      "Epoch 17/50\n",
      "10/10 [==============================] - 0s 2ms/step - loss: 0.3530 - accuracy: 0.8481 - val_loss: 0.5302 - val_accuracy: 0.7750\n",
      "Epoch 18/50\n",
      "10/10 [==============================] - 0s 2ms/step - loss: 0.3473 - accuracy: 0.8576 - val_loss: 0.5312 - val_accuracy: 0.7625\n",
      "Epoch 19/50\n",
      "10/10 [==============================] - 0s 2ms/step - loss: 0.3425 - accuracy: 0.8576 - val_loss: 0.5324 - val_accuracy: 0.7750\n",
      "Epoch 20/50\n",
      "10/10 [==============================] - 0s 2ms/step - loss: 0.3364 - accuracy: 0.8608 - val_loss: 0.5432 - val_accuracy: 0.7875\n",
      "Epoch 21/50\n",
      "10/10 [==============================] - 0s 4ms/step - loss: 0.3313 - accuracy: 0.8576 - val_loss: 0.5428 - val_accuracy: 0.7750\n",
      "Epoch 22/50\n",
      "10/10 [==============================] - 0s 4ms/step - loss: 0.3253 - accuracy: 0.8671 - val_loss: 0.5478 - val_accuracy: 0.7875\n",
      "Epoch 23/50\n",
      "10/10 [==============================] - 0s 3ms/step - loss: 0.3216 - accuracy: 0.8703 - val_loss: 0.5583 - val_accuracy: 0.7750\n",
      "Epoch 24/50\n",
      "10/10 [==============================] - 0s 2ms/step - loss: 0.3159 - accuracy: 0.8703 - val_loss: 0.5599 - val_accuracy: 0.7625\n",
      "Epoch 25/50\n",
      "10/10 [==============================] - 0s 2ms/step - loss: 0.3124 - accuracy: 0.8766 - val_loss: 0.5580 - val_accuracy: 0.7625\n",
      "Epoch 26/50\n",
      "10/10 [==============================] - 0s 2ms/step - loss: 0.3061 - accuracy: 0.8766 - val_loss: 0.5671 - val_accuracy: 0.7625\n",
      "Epoch 27/50\n",
      "10/10 [==============================] - 0s 2ms/step - loss: 0.3014 - accuracy: 0.8829 - val_loss: 0.5706 - val_accuracy: 0.7625\n",
      "Epoch 28/50\n",
      "10/10 [==============================] - 0s 2ms/step - loss: 0.2981 - accuracy: 0.8797 - val_loss: 0.5781 - val_accuracy: 0.7750\n",
      "Epoch 29/50\n",
      "10/10 [==============================] - 0s 2ms/step - loss: 0.2935 - accuracy: 0.8797 - val_loss: 0.5710 - val_accuracy: 0.7625\n",
      "Epoch 30/50\n",
      "10/10 [==============================] - 0s 2ms/step - loss: 0.2890 - accuracy: 0.8861 - val_loss: 0.5857 - val_accuracy: 0.7625\n",
      "Epoch 31/50\n",
      "10/10 [==============================] - 0s 2ms/step - loss: 0.2848 - accuracy: 0.8861 - val_loss: 0.5914 - val_accuracy: 0.7625\n",
      "Epoch 32/50\n",
      "10/10 [==============================] - 0s 2ms/step - loss: 0.2803 - accuracy: 0.8797 - val_loss: 0.6008 - val_accuracy: 0.7750\n",
      "Epoch 33/50\n",
      "10/10 [==============================] - 0s 2ms/step - loss: 0.2755 - accuracy: 0.8924 - val_loss: 0.5940 - val_accuracy: 0.7625\n",
      "Epoch 34/50\n",
      "10/10 [==============================] - 0s 2ms/step - loss: 0.2714 - accuracy: 0.8987 - val_loss: 0.6005 - val_accuracy: 0.7625\n",
      "Epoch 35/50\n",
      "10/10 [==============================] - 0s 2ms/step - loss: 0.2686 - accuracy: 0.8956 - val_loss: 0.6177 - val_accuracy: 0.7750\n",
      "Epoch 36/50\n",
      "10/10 [==============================] - 0s 2ms/step - loss: 0.2644 - accuracy: 0.8892 - val_loss: 0.6200 - val_accuracy: 0.7625\n",
      "Epoch 37/50\n",
      "10/10 [==============================] - 0s 2ms/step - loss: 0.2594 - accuracy: 0.8987 - val_loss: 0.6206 - val_accuracy: 0.7625\n",
      "Epoch 38/50\n",
      "10/10 [==============================] - 0s 2ms/step - loss: 0.2547 - accuracy: 0.9019 - val_loss: 0.6276 - val_accuracy: 0.7625\n",
      "Epoch 39/50\n",
      "10/10 [==============================] - 0s 2ms/step - loss: 0.2516 - accuracy: 0.9051 - val_loss: 0.6305 - val_accuracy: 0.7750\n",
      "Epoch 40/50\n",
      "10/10 [==============================] - 0s 2ms/step - loss: 0.2526 - accuracy: 0.9051 - val_loss: 0.6337 - val_accuracy: 0.7500\n",
      "Epoch 41/50\n",
      "10/10 [==============================] - 0s 2ms/step - loss: 0.2461 - accuracy: 0.9114 - val_loss: 0.6479 - val_accuracy: 0.7625\n",
      "Epoch 42/50\n",
      "10/10 [==============================] - 0s 2ms/step - loss: 0.2393 - accuracy: 0.9082 - val_loss: 0.6507 - val_accuracy: 0.7625\n",
      "Epoch 43/50\n",
      "10/10 [==============================] - 0s 2ms/step - loss: 0.2367 - accuracy: 0.9146 - val_loss: 0.6479 - val_accuracy: 0.7500\n",
      "Epoch 44/50\n",
      "10/10 [==============================] - 0s 2ms/step - loss: 0.2318 - accuracy: 0.9209 - val_loss: 0.6584 - val_accuracy: 0.7625\n",
      "Epoch 45/50\n",
      "10/10 [==============================] - 0s 2ms/step - loss: 0.2285 - accuracy: 0.9114 - val_loss: 0.6718 - val_accuracy: 0.7625\n",
      "Epoch 46/50\n",
      "10/10 [==============================] - 0s 2ms/step - loss: 0.2235 - accuracy: 0.9272 - val_loss: 0.6707 - val_accuracy: 0.7625\n",
      "Epoch 47/50\n",
      "10/10 [==============================] - 0s 2ms/step - loss: 0.2216 - accuracy: 0.9241 - val_loss: 0.6774 - val_accuracy: 0.7375\n",
      "Epoch 48/50\n",
      "10/10 [==============================] - 0s 2ms/step - loss: 0.2196 - accuracy: 0.9209 - val_loss: 0.6844 - val_accuracy: 0.7625\n",
      "Epoch 49/50\n",
      "10/10 [==============================] - 0s 2ms/step - loss: 0.2149 - accuracy: 0.9304 - val_loss: 0.7077 - val_accuracy: 0.7500\n",
      "Epoch 50/50\n",
      "10/10 [==============================] - 0s 2ms/step - loss: 0.2114 - accuracy: 0.9304 - val_loss: 0.6947 - val_accuracy: 0.7375\n"
     ]
    },
    {
     "data": {
      "text/plain": [
       "<keras.src.callbacks.History at 0x15a3ebf10>"
      ]
     },
     "execution_count": 9,
     "metadata": {},
     "output_type": "execute_result"
    }
   ],
   "source": [
    "# Compile the model\n",
    "nn.compile(optimizer='adam', loss='binary_crossentropy', metrics=['accuracy'])\n",
    "\n",
    "# Train the model\n",
    "nn.fit(X_train_scaled, y_train, epochs=50, batch_size=32, validation_split=0.2)\n"
   ]
  },
  {
   "cell_type": "code",
   "execution_count": 11,
   "metadata": {},
   "outputs": [
    {
     "name": "stdout",
     "output_type": "stream",
     "text": [
      "5/5 - 0s - loss: 0.5958 - accuracy: 0.7744 - 16ms/epoch - 3ms/step\n",
      "Loss: 0.5957844257354736, Accuracy: 0.7744361162185669\n"
     ]
    }
   ],
   "source": [
    "# Evaluate the model on test data\n",
    "loss, accuracy = nn.evaluate(X_test_scaled, y_test, verbose=2)\n",
    "print(f\"Loss: {loss}, Accuracy: {accuracy}\")"
   ]
  },
  {
   "cell_type": "code",
   "execution_count": 12,
   "metadata": {},
   "outputs": [
    {
     "name": "stdout",
     "output_type": "stream",
     "text": [
      "5/5 [==============================] - 0s 759us/step - loss: 0.5958 - accuracy: 0.7744\n",
      "Loaded Model Test Accuracy: 0.7744361162185669\n"
     ]
    },
    {
     "name": "stderr",
     "output_type": "stream",
     "text": [
      "/Users/xingyingchen/anaconda3/lib/python3.10/site-packages/keras/src/engine/training.py:3000: UserWarning: You are saving your model as an HDF5 file via `model.save()`. This file format is considered legacy. We recommend using instead the native Keras format, e.g. `model.save('my_model.keras')`.\n",
      "  saving_api.save_model(\n"
     ]
    }
   ],
   "source": [
    "# Save the model to a file\n",
    "filename = 'deep_learning_model.h5'\n",
    "nn.save(filename)\n",
    "\n",
    "# Load the model from the file and check its accuracy\n",
    "loaded_model = tf.keras.models.load_model(filename)\n",
    "loss, accuracy = loaded_model.evaluate(X_test_scaled, y_test)\n",
    "print(\"Loaded Model Test Accuracy:\", accuracy)"
   ]
  }
 ],
 "metadata": {
  "kernelspec": {
   "display_name": "base",
   "language": "python",
   "name": "python3"
  },
  "language_info": {
   "codemirror_mode": {
    "name": "ipython",
    "version": 3
   },
   "file_extension": ".py",
   "mimetype": "text/x-python",
   "name": "python",
   "nbconvert_exporter": "python",
   "pygments_lexer": "ipython3",
   "version": "3.11.4"
  },
  "orig_nbformat": 4
 },
 "nbformat": 4,
 "nbformat_minor": 2
}
